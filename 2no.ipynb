{
  "nbformat": 4,
  "nbformat_minor": 0,
  "metadata": {
    "colab": {
      "provenance": []
    },
    "kernelspec": {
      "name": "python3",
      "display_name": "Python 3"
    },
    "language_info": {
      "name": "python"
    }
  },
  "cells": [
    {
      "cell_type": "code",
      "execution_count": 1,
      "metadata": {
        "colab": {
          "base_uri": "https://localhost:8080/"
        },
        "id": "EcMJO0tsysl8",
        "outputId": "e48d9cc8-4999-4d2d-a54f-66709a5f0ee8"
      },
      "outputs": [
        {
          "output_type": "stream",
          "name": "stdout",
          "text": [
            "Cleaned location A\n",
            "Environment: {'A': 'Clean', 'B': 'Dirty'}\n",
            "Moved to location B\n",
            "Environment: {'A': 'Clean', 'B': 'Dirty'}\n",
            "Cleaned location B\n",
            "Environment: {'A': 'Clean', 'B': 'Clean'}\n",
            "Moved to location A\n",
            "Environment: {'A': 'Clean', 'B': 'Clean'}\n",
            "Moved to location B\n",
            "Environment: {'A': 'Clean', 'B': 'Clean'}\n"
          ]
        }
      ],
      "source": [
        "class VacuumCleaner:\n",
        "    def __init__(self):\n",
        "        self.location = 'A'  # Initial location\n",
        "        self.environment = {'A': 'Dirty', 'B': 'Dirty'}  # Initial environment state\n",
        "        self.model = {'A': 'Unknown', 'B': 'Unknown'}  # Model of the environment\n",
        "\n",
        "    def perceive(self):\n",
        "        \"\"\"Perceives the current location and its status.\"\"\"\n",
        "        return self.location, self.environment[self.location]\n",
        "\n",
        "    def update_model(self):\n",
        "        \"\"\"Updates the internal model based on perception.\"\"\"\n",
        "        self.model[self.location] = self.environment[self.location]\n",
        "\n",
        "    def clean(self):\n",
        "        \"\"\"Cleans the current location.\"\"\"\n",
        "        self.environment[self.location] = 'Clean'\n",
        "        self.update_model()\n",
        "        print(f'Cleaned location {self.location}')\n",
        "\n",
        "    def move(self):\n",
        "        \"\"\"Moves to the next location.\"\"\"\n",
        "        if self.location == 'A':\n",
        "            self.location = 'B'\n",
        "        else:\n",
        "            self.location = 'A'\n",
        "        print(f'Moved to location {self.location}')\n",
        "\n",
        "    def model_based_agent(self):\n",
        "        \"\"\"Implements the model-based agent logic.\"\"\"\n",
        "        self.update_model()\n",
        "        if self.model[self.location] == 'Dirty':\n",
        "            self.clean()\n",
        "        else:\n",
        "            self.move()\n",
        "\n",
        "    def run(self, steps):\n",
        "        \"\"\"Runs the vacuum cleaner for a given number of steps.\"\"\"\n",
        "        for _ in range(steps):\n",
        "            self.model_based_agent()\n",
        "            print(f'Environment: {self.environment}')\n",
        "\n",
        "\n",
        "# Example usage\n",
        "vacuum = VacuumCleaner()\n",
        "vacuum.run(steps=5)\n"
      ]
    }
  ]
}