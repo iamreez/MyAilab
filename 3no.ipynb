{
  "nbformat": 4,
  "nbformat_minor": 0,
  "metadata": {
    "colab": {
      "provenance": []
    },
    "kernelspec": {
      "name": "python3",
      "display_name": "Python 3"
    },
    "language_info": {
      "name": "python"
    }
  },
  "cells": [
    {
      "cell_type": "code",
      "execution_count": 1,
      "metadata": {
        "colab": {
          "base_uri": "https://localhost:8080/"
        },
        "id": "N6JJoikozJd2",
        "outputId": "11b7e090-11e9-4651-e45c-9756d8fba55c"
      },
      "outputs": [
        {
          "output_type": "stream",
          "name": "stdout",
          "text": [
            "BFS Solution: [(0, 0), (0, 3), (3, 0), (3, 3), (4, 2), (0, 2), (2, 0)]\n",
            "DFS Solution: [(0, 0), (0, 3), (3, 0), (3, 3), (4, 2), (0, 2), (2, 0)]\n"
          ]
        }
      ],
      "source": [
        "from collections import deque\n",
        "\n",
        "class WaterJug:\n",
        "    def __init__(self, initial_state, goal_state):\n",
        "        self.initial_state = initial_state\n",
        "        self.goal_state = goal_state\n",
        "\n",
        "    def goalTest(self, current_state):\n",
        "        return current_state == self.goal_state\n",
        "\n",
        "    def successor(self, state):\n",
        "        \"\"\"Generates all possible successors based on the production rules.\"\"\"\n",
        "        successors = []\n",
        "        a, b = state\n",
        "        # Fill jug1\n",
        "        successors.append((4, b))\n",
        "        # Fill jug2\n",
        "        successors.append((a, 3))\n",
        "        # Empty jug1\n",
        "        successors.append((0, b))\n",
        "        # Empty jug2\n",
        "        successors.append((a, 0))\n",
        "        # Pour water from jug1 to jug2\n",
        "        pour = min(a, 3 - b)\n",
        "        successors.append((a - pour, b + pour))\n",
        "        # Pour water from jug2 to jug1\n",
        "        pour = min(b, 4 - a)\n",
        "        successors.append((a + pour, b - pour))\n",
        "\n",
        "        return successors\n",
        "\n",
        "    def generate_path(self, parent, current_state):\n",
        "        \"\"\"Generates the path from initial state to the goal state.\"\"\"\n",
        "        path = []\n",
        "        while current_state:\n",
        "            path.append(current_state)\n",
        "            current_state = parent[current_state]\n",
        "        path.reverse()\n",
        "        return path\n",
        "\n",
        "    def bfs(self):\n",
        "        \"\"\"Breadth-first search algorithm.\"\"\"\n",
        "        queue = deque([(self.initial_state, None)])\n",
        "        parent = {self.initial_state: None}\n",
        "        closed = set()\n",
        "\n",
        "        while queue:\n",
        "            current_state, _ = queue.popleft()\n",
        "            if self.goalTest(current_state):\n",
        "                return self.generate_path(parent, current_state)\n",
        "\n",
        "            if current_state not in closed:\n",
        "                closed.add(current_state)\n",
        "                for successor in self.successor(current_state):\n",
        "                    if successor not in parent:\n",
        "                        parent[successor] = current_state\n",
        "                        queue.append((successor, current_state))\n",
        "        return None\n",
        "\n",
        "    def dfs(self):\n",
        "        \"\"\"Depth-first search algorithm.\"\"\"\n",
        "        stack = [(self.initial_state, None)]\n",
        "        parent = {self.initial_state: None}\n",
        "        closed = set()\n",
        "\n",
        "        while stack:\n",
        "            current_state, _ = stack.pop()\n",
        "            if self.goalTest(current_state):\n",
        "                return self.generate_path(parent, current_state)\n",
        "\n",
        "            if current_state not in closed:\n",
        "                closed.add(current_state)\n",
        "                for successor in self.successor(current_state):\n",
        "                    if successor not in parent:\n",
        "                        parent[successor] = current_state\n",
        "                        stack.append((successor, current_state))\n",
        "        return None\n",
        "\n",
        "\n",
        "# Example usage\n",
        "initial_state = (0, 0)\n",
        "goal_state = (2, 0)\n",
        "water_jug = WaterJug(initial_state, goal_state)\n",
        "\n",
        "print(\"BFS Solution:\", water_jug.bfs())\n",
        "print(\"DFS Solution:\", water_jug.dfs())\n"
      ]
    }
  ]
}